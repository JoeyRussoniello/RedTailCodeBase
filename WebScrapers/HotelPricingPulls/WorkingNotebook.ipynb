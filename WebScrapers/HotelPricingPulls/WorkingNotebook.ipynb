{
 "cells": [
  {
   "cell_type": "code",
   "execution_count": 55,
   "metadata": {},
   "outputs": [],
   "source": [
    "import re\n",
    "from datetime import datetime,timedelta\n",
    "from io import StringIO\n",
    "from bs4 import BeautifulSoup\n",
    "import requests\n",
    "import pandas as pd"
   ]
  },
  {
   "cell_type": "code",
   "execution_count": 2,
   "metadata": {},
   "outputs": [],
   "source": [
    "headers={\"User-Agent\":\"Mozilla/5.0 (Windows NT 10.0; Win64; x64) AppleWebKit/537.36 (KHTML, like Gecko) Chrome/107.0.0.0 Safari/537.36\"}\n",
    "#Notice url structure for checkin and checkout date\n",
    "target_url1 = \"https://www.booking.com/hotel/us/gateway-inn-and-conference-center.html?aid=304142&label=gen173nr-1FCAEoggI46AdIM1gEaIgCiAEBmAExuAEXyAEM2AEB6AEB-AECiAIBqAIDuAKZmtG7BsACAdICJGI2YjI5MzQyLTNiM2EtNDRhYi05NWE3LWFkOTZhZjU4NmZkYtgCBeACAQ&sid=f4938e52c9ad18b2aa9ab0bead33fd5d&all_sr_blocks=176350816_107181574_0_34_0&checkin=2025-01-01&checkout=2025-01-02&dest_id=20017561&dest_type=city&dist=0&group_adults=2&group_children=0&hapos=1&highlighted_blocks=176350816_107181574_0_34_0&hpos=1&matching_block_id=176350816_107181574_0_34_0&no_rooms=1&req_adults=2&req_children=0&room1=A%2CA&sb_price_type=total&sr_order=popularity&sr_pri_blocks=176350816_107181574_0_34_0__8900&srepoch=1735675202&srpvid=e19c8c9c98f603fd&type=total&ucfs=1&\""
   ]
  },
  {
   "cell_type": "code",
   "execution_count": 96,
   "metadata": {},
   "outputs": [],
   "source": [
    "def update_booking_dates(url, checkin_date, checkout_date,):\n",
    "    \"\"\"\n",
    "    Update the checkin and checkout dates in the given booking.com URL.\n",
    "\n",
    "    Args:\n",
    "    url (str): The original URL.\n",
    "    checkin_date (str): The new check-in date in YYYY-MM-DD format.\n",
    "    checkout_date (str): The new check-out date in YYYY-MM-DD format.\n",
    "\n",
    "    Returns:\n",
    "    str: The updated URL with new check-in and check-out dates.\n",
    "    \"\"\"\n",
    "    url = re.sub(r'checkin=\\d{4}-\\d{2}-\\d{2}', f'checkin={checkin_date}', url)\n",
    "    url = re.sub(r'checkout=\\d{4}-\\d{2}-\\d{2}', f'checkout={checkout_date}', url)\n",
    "    return url\n",
    "def is_correct_table(html_table_string):\n",
    "    #Convert into a string IO object\n",
    "    str_table = StringIO(str(html_table_string))\n",
    "    #Read the table into a pandas dataframe\n",
    "    df = pd.read_html(str_table)[0]\n",
    "    #Check if the table has the correct columns\n",
    "    cols = df.columns\n",
    "    return \"Today's price\" in cols\n",
    "def extract_table(target_url,date):\n",
    "    resp = requests.get(target_url, headers = headers)\n",
    "    if resp.status_code != 200:\n",
    "        print(f'Response status: {resp.status_code}')\n",
    "    soup = BeautifulSoup(resp.text, 'html.parser')\n",
    "    tables = soup.find_all('table')\n",
    "    rating = soup.find('div',class_ = 'ac4a7896c7').text.strip().split(' ')[1]\n",
    "    prop = soup.find('h2',class_ = 'd2fee87262').text.strip()\n",
    "    \n",
    "    df = pd.DataFrame()\n",
    "    for table in tables:\n",
    "        if is_correct_table(table):\n",
    "            df = pd.read_html(StringIO(str(table)))[0]\n",
    "            df[\"Rating\"] = rating\n",
    "            df['Date'] = date\n",
    "            df['Competitor'] = prop\n",
    "            break\n",
    "    \n",
    "    if df.empty:\n",
    "        print(\"No valid table found\")\n",
    "        return \n",
    "    else:\n",
    "        return df\n"
   ]
  },
  {
   "cell_type": "code",
   "execution_count": 74,
   "metadata": {},
   "outputs": [],
   "source": [
    "#Provide the basic url structure for a competitor\n",
    "url_structure = 'https://www.booking.com/hotel/us/spirit-lake-lodge.html?aid=304142&label=gen173nr-1FCAEoggI46AdIM1gEaIgCiAEBmAExuAEXyAEM2AEB6AEB-AECiAIBqAIDuAKZmtG7BsACAdICJGI2YjI5MzQyLTNiM2EtNDRhYi05NWE3LWFkOTZhZjU4NmZkYtgCBeACAQ&sid=f4938e52c9ad18b2aa9ab0bead33fd5d&all_sr_blocks=40236002_401571595_0_0_0&checkin=2025-01-01&checkout=2025-01-02&dest_id=20017561&dest_type=city&dist=0&group_adults=2&group_children=0&hapos=3&highlighted_blocks=40236002_401571595_0_0_0&hpos=3&matching_block_id=40236002_401571595_0_0_0&no_rooms=1&req_adults=2&req_children=0&room1=A%2CA&sb_price_type=total&sr_order=popularity&sr_pri_blocks=40236002_401571595_0_0_0__12000&srepoch=1735676385&srpvid=e19c8c9c98f603fd&type=total&ucfs=1&'\n",
    "\n",
    "today = datetime.today()"
   ]
  },
  {
   "cell_type": "code",
   "execution_count": 95,
   "metadata": {},
   "outputs": [],
   "source": [
    "def find_type_name(df):\n",
    "    #It's possible to get values like \"room type\" or \"apartment type\", this accounts for that variance\n",
    "    headers = df.columns\n",
    "    for header in headers:\n",
    "        if \"type\" in header.lower():\n",
    "            return header\n",
    "\n",
    "def get_room_name(txt):\n",
    "    #Regex to get the words before the first digit\n",
    "    pattern = r'^\\D*'\n",
    "    s = re.match(pattern,txt).group().strip()\n",
    "    if 'Only' in s:\n",
    "        s = s.partition(\"Only\")[0].strip()\n",
    "    return s\n",
    "\n",
    "def clean_df(df):\n",
    "    if df is None or df.empty:\n",
    "        return\n",
    "    #apply functions to clean df\n",
    "    guests = df[\"Number of guests\"].apply(lambda x: x.split(\": \")[1])\n",
    "\n",
    "    \n",
    "    pattern = r'(\\d+)' #Get the first number from the string\n",
    "    prices = df[\"Today's price\"].apply(lambda x: re.search(pattern,x).group(0))\n",
    "    \n",
    "    type_name = find_type_name(df)\n",
    "    room_type = df[type_name].apply(get_room_name)\n",
    "    \n",
    "    rating = df['Rating']\n",
    "    date = df['Date']\n",
    "    competitor = df['Competitor']\n",
    "    \n",
    "    new_df = pd.DataFrame([competitor,room_type,guests,prices,rating,date]).T\n",
    "    new_df.columns = [\"Competitor\",'Room Type','Guests','Price','Rating','Check-in Date']\n",
    "    new_df['Report Date'] = datetime.today().strftime('%m-%d-%Y')\n",
    "    return new_df\n",
    "def get_data(url_structure,days_out):\n",
    "    checkin_date = (today + timedelta(days = days_out)).strftime('%Y-%m-%d')\n",
    "    checkout_date = (today + timedelta(days = days_out + 1)).strftime('%Y-%m-%d')\n",
    "    new_url = update_booking_dates(url_structure,checkin_date,checkout_date)\n",
    "    print(f'Gathering data for: {checkin_date}')\n",
    "    df = extract_table(new_url,checkin_date)\n",
    "    cleaned = clean_df(df)\n",
    "    return cleaned\n",
    "def get_month_out(url_structure):\n",
    "    df = pd.DataFrame()\n",
    "    for i in range(1,31):\n",
    "        df = get_data(url_structure,i) if df.empty else pd.concat([df,get_data(url_structure,i)])\n",
    "    return df"
   ]
  },
  {
   "cell_type": "code",
   "execution_count": 97,
   "metadata": {},
   "outputs": [
    {
     "name": "stdout",
     "output_type": "stream",
     "text": [
      "Gathering data for: 2025-01-01\n",
      "Gathering data for: 2025-01-02\n",
      "Gathering data for: 2025-01-03\n",
      "Gathering data for: 2025-01-04\n",
      "Gathering data for: 2025-01-05\n",
      "Gathering data for: 2025-01-06\n",
      "Gathering data for: 2025-01-07\n",
      "Gathering data for: 2025-01-08\n",
      "Gathering data for: 2025-01-09\n",
      "Gathering data for: 2025-01-10\n",
      "Gathering data for: 2025-01-11\n",
      "Gathering data for: 2025-01-12\n",
      "Gathering data for: 2025-01-13\n",
      "Gathering data for: 2025-01-14\n",
      "Gathering data for: 2025-01-15\n",
      "Gathering data for: 2025-01-16\n",
      "Gathering data for: 2025-01-17\n",
      "Gathering data for: 2025-01-18\n",
      "Gathering data for: 2025-01-19\n",
      "Gathering data for: 2025-01-20\n",
      "Gathering data for: 2025-01-21\n",
      "Gathering data for: 2025-01-22\n",
      "Gathering data for: 2025-01-23\n",
      "Gathering data for: 2025-01-24\n",
      "No valid table found\n",
      "Gathering data for: 2025-01-25\n",
      "No valid table found\n",
      "Gathering data for: 2025-01-26\n",
      "Gathering data for: 2025-01-27\n",
      "Gathering data for: 2025-01-28\n",
      "Gathering data for: 2025-01-29\n",
      "Gathering data for: 2025-01-30\n"
     ]
    }
   ],
   "source": [
    "df = get_month_out(url_structure)"
   ]
  },
  {
   "cell_type": "code",
   "execution_count": 99,
   "metadata": {},
   "outputs": [],
   "source": [
    "df.to_csv(\"booking_competitor.csv\",index = False,header = True,mode = 'a')"
   ]
  }
 ],
 "metadata": {
  "kernelspec": {
   "display_name": "Python 3",
   "language": "python",
   "name": "python3"
  },
  "language_info": {
   "codemirror_mode": {
    "name": "ipython",
    "version": 3
   },
   "file_extension": ".py",
   "mimetype": "text/x-python",
   "name": "python",
   "nbconvert_exporter": "python",
   "pygments_lexer": "ipython3",
   "version": "3.11.9"
  }
 },
 "nbformat": 4,
 "nbformat_minor": 2
}
